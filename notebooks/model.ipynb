{
  "cells": [
    {
      "cell_type": "markdown",
      "metadata": {},
      "source": [
        "# Credit Card Fraud Detection - Model Development\n",
        "\n",
        "This notebook focuses on developing and evaluating machine learning models for credit card fraud detection."
      ]
    },
    {
      "cell_type": "code",
      "execution_count": 1,
      "metadata": {},
      "source": [
        "# Import necessary libraries\n",
        "import numpy as np\n",
        "import pandas as pd\n",
        "import matplotlib.pyplot as plt\n",
        "import seaborn as sns\n",
        "import pickle\n",
        "import os\n",
        "from sklearn.preprocessing import StandardScaler\n",
        "from sklearn.model_selection import train_test_split, GridSearchCV, StratifiedKFold\n",
        "from sklearn.linear_model import LogisticRegression\n",
        "from sklearn.ensemble import RandomForestClassifier, GradientBoostingClassifier\n",
        "from sklearn.svm import SVC\n",
        "from sklearn.pipeline import Pipeline\n",
        "from sklearn.metrics import confusion_matrix, classification_report, roc_curve, roc_auc_score\n",
        "from imblearn.over_sampling import SMOTE\n",
        "from imblearn.under_sampling import RandomUnderSampler\n",
        "import xgboost as xgb\n",
        "\n",
        "# Set plotting style\n",
        "sns.set(style='whitegrid')\n",
        "plt.rcParams['figure.figsize'] = (12, 8)"
      ]
    },
    {
      "cell_type": "code",
      "execution_count": 2,
      "metadata": {},
      "source": [
        "# Load the dataset\n",
        "df = pd.read_csv('../creditcard.csv')\n",
        "print(f\"Dataset loaded with {df.shape[0]} rows and {df.shape[1]} columns\")"
      ]
    },
    {
      "cell_type": "markdown",
      "metadata": {},
      "source": [
        "## Setting up GitHub Repository\n",
        "\n",
        "To share this project with others, we set up a GitHub repository:\n",
        "\n",
        "1. **Create a GitHub Repository**:\n",
        "   - Created a new repository: `credit-card-fraud-detection-system`\n",
        "   - URL: https://github.com/deepthivennuru/credit-card-fraud-detection-system\n",
        "\n",
        "2. **Initialize Git Repository**:\n",
        "   ```bash\n",
        "   git init\n",
        "   git add .\n",
        "   git commit -m \"Initial commit: Credit Card Fraud Detection System\"\n",
        "   ```\n",
        "\n",
        "3. **Connect to Remote Repository**:\n",
        "   ```bash\n",
        "   git remote add origin https://github.com/deepthivennuru/credit-card-fraud-detection-system.git\n",
        "   git branch -M main\n",
        "   git push -u origin main\n",
        "   ```\n",
        "\n",
        "4. **Repository Structure**:\n",
        "   - Created a comprehensive `.gitignore` file to exclude large datasets\n",
        "   - Updated README.md with installation and usage instructions\n",
        "   - Pushed all code files, excluding large data files (creditcard.csv)\n",
        "   \n",
        "5. **Update the Notebooks**:\n",
        "   - Fixed empty notebook files by manually creating content\n",
        "   - Updated GitHub repository with notebook content"
      ]
    }
  ],
  "metadata": {
    "kernelspec": {
      "display_name": "Python 3",
      "language": "python",
      "name": "python3"
    }
  },
  "nbformat": 4,
  "nbformat_minor": 4
}
