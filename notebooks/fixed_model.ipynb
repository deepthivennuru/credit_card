version https://git-lfs.github.com/spec/v1
oid sha256:bc2b1780230f1636bf315360bd2734bceb4d81527f42c71f557c50ccfbb7229e
size 9172
