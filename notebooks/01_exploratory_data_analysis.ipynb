version https://git-lfs.github.com/spec/v1
oid sha256:4c5d10426b65fdb75a2687f464d201ed5a8c53e132685c2da7b9e2030f3acea3
size 340239
