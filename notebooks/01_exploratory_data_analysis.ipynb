version https://git-lfs.github.com/spec/v1
oid sha256:1255308e8f638c7fac158018b10d9a7aec06a0a49812bd990fd052bd9d559c8f
size 340433
